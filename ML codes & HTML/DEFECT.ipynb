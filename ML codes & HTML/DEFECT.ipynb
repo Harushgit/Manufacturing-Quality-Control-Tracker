{
 "cells": [
  {
   "cell_type": "markdown",
   "id": "97f50746-83f3-474c-b7ea-21cc0d888d06",
   "metadata": {},
   "source": [
    "# Defect Detection"
   ]
  },
  {
   "cell_type": "code",
   "execution_count": 1,
   "id": "0ac3e3d2-20d1-4167-bf2d-c36dfd90425c",
   "metadata": {
    "execution": {
     "iopub.execute_input": "2025-02-20T05:21:38.576367Z",
     "iopub.status.busy": "2025-02-20T05:21:38.574366Z",
     "iopub.status.idle": "2025-02-20T05:21:47.165971Z",
     "shell.execute_reply": "2025-02-20T05:21:47.164275Z"
    }
   },
   "outputs": [],
   "source": [
    "# Import necessary libraries\n",
    "import pandas as pd\n",
    "from sklearn.model_selection import train_test_split, GridSearchCV\n",
    "from sklearn.ensemble import RandomForestClassifier\n",
    "from sklearn.preprocessing import LabelEncoder, StandardScaler\n",
    "from sklearn.metrics import classification_report, confusion_matrix\n",
    "from imblearn.over_sampling import SMOTE"
   ]
  },
  {
   "cell_type": "code",
   "execution_count": 2,
   "id": "75eadd75-ff41-41f2-b59c-c16dc45bd1c5",
   "metadata": {
    "execution": {
     "iopub.execute_input": "2025-02-20T05:21:47.176804Z",
     "iopub.status.busy": "2025-02-20T05:21:47.175478Z",
     "iopub.status.idle": "2025-02-20T05:21:47.371933Z",
     "shell.execute_reply": "2025-02-20T05:21:47.369785Z"
    }
   },
   "outputs": [
    {
     "name": "stdout",
     "output_type": "stream",
     "text": [
      "Dataset Preview:\n",
      "   Product_ID Batch_Number Production_Date    Shift   Inspector_Name  \\\n",
      "0    66048763      BN-8115      08-01-2022  Evening       Ruth Avery   \n",
      "1    47593824      BN-8570      08-01-2022    Night     Caleb Romero   \n",
      "2    42194897      BN-3282      08-01-2022    Night     Sherry Smith   \n",
      "3    24115780      BN-7240      08-01-2022    Night   Chad Mccormick   \n",
      "4    15659385      BN-7023      08-01-2022  Evening  Elizabeth Jones   \n",
      "\n",
      "  Defect_Type Pass_Fail  Dimension (mm)  Tolerance (mm)  \\\n",
      "0       Crack      Pass          117.77            0.73   \n",
      "1   No_Defect      Fail          191.96            0.26   \n",
      "2       Other      Fail          164.35            0.77   \n",
      "3       Other      Pass           27.74            0.13   \n",
      "4       Other      Fail           56.73            0.62   \n",
      "\n",
      "   Production_Time (mins)  ...  Material_Used (kg)  Energy_Consumption (kWh)  \\\n",
      "0                      83  ...                0.45                    217.98   \n",
      "1                      80  ...               27.34                    383.12   \n",
      "2                      11  ...               13.65                    306.02   \n",
      "3                     114  ...               36.63                    497.97   \n",
      "4                     119  ...                9.22                    338.19   \n",
      "\n",
      "  Quality_Score (%)  Defect_Rate (%)  Compliance_Flag  \\\n",
      "0             94.55             7.17    Non-Compliant   \n",
      "1             67.79             3.32    Non-Compliant   \n",
      "2             87.90             9.08    Non-Compliant   \n",
      "3             62.14             4.70    Non-Compliant   \n",
      "4             72.75             8.51        Compliant   \n",
      "\n",
      "   Machine_Downtime (mins)  Scrap_Cost (USD) Inspection_Time (mins)  \\\n",
      "0                       35             68.34                     12   \n",
      "1                        8            380.98                     15   \n",
      "2                       36            283.70                     12   \n",
      "3                        1            282.77                      1   \n",
      "4                       27            139.66                      2   \n",
      "\n",
      "   Cycle_Time (s)  Line_Number  \n",
      "0              37            5  \n",
      "1             252            1  \n",
      "2              93            1  \n",
      "3             255            5  \n",
      "4             116            1  \n",
      "\n",
      "[5 rows x 23 columns]\n"
     ]
    }
   ],
   "source": [
    "# Load the dataset\n",
    "df = pd.read_csv(r'C:\\Users\\njhar\\Downloads\\manufacturing data.csv',encoding='latin1')\n",
    "\n",
    "# Display the first few rows to understand the dataset structure\n",
    "print(\"Dataset Preview:\")\n",
    "print(df.head())"
   ]
  },
  {
   "cell_type": "code",
   "execution_count": 3,
   "id": "72cf07a6-8d7e-41f9-8a55-fdc7f2def46a",
   "metadata": {
    "execution": {
     "iopub.execute_input": "2025-02-20T05:21:47.382995Z",
     "iopub.status.busy": "2025-02-20T05:21:47.381375Z",
     "iopub.status.idle": "2025-02-20T05:21:47.395558Z",
     "shell.execute_reply": "2025-02-20T05:21:47.391455Z"
    }
   },
   "outputs": [],
   "source": [
    "# Inspect and Prepare Data\n",
    "# Define relevant features and target column\n",
    "features = ['Temperature (°C)', 'Pressure (bar)', 'Production_Time (mins)']\n",
    "target = 'Pass_Fail'"
   ]
  },
  {
   "cell_type": "code",
   "execution_count": 4,
   "id": "651e291b-490d-4ab4-af3e-77c2c04f61c6",
   "metadata": {
    "execution": {
     "iopub.execute_input": "2025-02-20T05:21:47.404734Z",
     "iopub.status.busy": "2025-02-20T05:21:47.402979Z",
     "iopub.status.idle": "2025-02-20T05:21:47.423169Z",
     "shell.execute_reply": "2025-02-20T05:21:47.418930Z"
    }
   },
   "outputs": [],
   "source": [
    "# Drop rows with missing values in the relevant columns\n",
    "df = df.dropna(subset=features + [target])"
   ]
  },
  {
   "cell_type": "code",
   "execution_count": 5,
   "id": "326efe63-64d0-40ed-b37f-671384395742",
   "metadata": {
    "execution": {
     "iopub.execute_input": "2025-02-20T05:21:47.431433Z",
     "iopub.status.busy": "2025-02-20T05:21:47.429740Z",
     "iopub.status.idle": "2025-02-20T05:21:47.454430Z",
     "shell.execute_reply": "2025-02-20T05:21:47.451913Z"
    }
   },
   "outputs": [],
   "source": [
    "# Encode the target variable (Pass/Fail) to numeric values\n",
    "label_enc = LabelEncoder()\n",
    "df['Pass_Fail_Encoded'] = label_enc.fit_transform(df[target])"
   ]
  },
  {
   "cell_type": "code",
   "execution_count": 6,
   "id": "de7b491e-da10-433f-b4a7-d4558655fd9e",
   "metadata": {
    "execution": {
     "iopub.execute_input": "2025-02-20T05:21:47.463564Z",
     "iopub.status.busy": "2025-02-20T05:21:47.461845Z",
     "iopub.status.idle": "2025-02-20T05:21:47.472897Z",
     "shell.execute_reply": "2025-02-20T05:21:47.471174Z"
    }
   },
   "outputs": [],
   "source": [
    "# Split the dataset into features (X) and target (y)\n",
    "X = df[features]\n",
    "y = df['Pass_Fail_Encoded']"
   ]
  },
  {
   "cell_type": "code",
   "execution_count": 7,
   "id": "68abcedb-3331-434f-a73b-f39e7d88e633",
   "metadata": {
    "execution": {
     "iopub.execute_input": "2025-02-20T05:21:47.481194Z",
     "iopub.status.busy": "2025-02-20T05:21:47.481194Z",
     "iopub.status.idle": "2025-02-20T05:21:47.506938Z",
     "shell.execute_reply": "2025-02-20T05:21:47.505406Z"
    }
   },
   "outputs": [],
   "source": [
    "# Split into training and testing datasets\n",
    "X_train, X_test, y_train, y_test = train_test_split(X, y, test_size=0.2, random_state=42)"
   ]
  },
  {
   "cell_type": "code",
   "execution_count": 8,
   "id": "354c0945-523d-464d-a790-90478f8f0645",
   "metadata": {
    "execution": {
     "iopub.execute_input": "2025-02-20T05:21:47.518766Z",
     "iopub.status.busy": "2025-02-20T05:21:47.517111Z",
     "iopub.status.idle": "2025-02-20T05:21:47.626351Z",
     "shell.execute_reply": "2025-02-20T05:21:47.624654Z"
    }
   },
   "outputs": [],
   "source": [
    "# Handling the Class Imbalance\n",
    "smote = SMOTE(random_state=42)\n",
    "X_train_resampled, y_train_resampled = smote.fit_resample(X_train, y_train)"
   ]
  },
  {
   "cell_type": "code",
   "execution_count": 9,
   "id": "801f76a1-bb87-4cca-b603-78ffd4d363f1",
   "metadata": {
    "execution": {
     "iopub.execute_input": "2025-02-20T05:21:47.636578Z",
     "iopub.status.busy": "2025-02-20T05:21:47.634832Z",
     "iopub.status.idle": "2025-02-20T05:21:47.710408Z",
     "shell.execute_reply": "2025-02-20T05:21:47.707774Z"
    }
   },
   "outputs": [],
   "source": [
    "# Normalize Features\n",
    "scaler = StandardScaler()\n",
    "X_train_scaled = scaler.fit_transform(X_train_resampled)\n",
    "X_test_scaled = scaler.transform(X_test)"
   ]
  },
  {
   "cell_type": "code",
   "execution_count": 10,
   "id": "d34a38d8-bcdf-4778-891f-9825b9736dbf",
   "metadata": {
    "execution": {
     "iopub.execute_input": "2025-02-20T05:21:47.718252Z",
     "iopub.status.busy": "2025-02-20T05:21:47.716591Z",
     "iopub.status.idle": "2025-02-20T05:22:29.644501Z",
     "shell.execute_reply": "2025-02-20T05:22:29.643332Z"
    }
   },
   "outputs": [
    {
     "name": "stdout",
     "output_type": "stream",
     "text": [
      "Fitting 3 folds for each of 16 candidates, totalling 48 fits\n"
     ]
    },
    {
     "data": {
      "text/html": [
       "<style>#sk-container-id-1 {\n",
       "  /* Definition of color scheme common for light and dark mode */\n",
       "  --sklearn-color-text: #000;\n",
       "  --sklearn-color-text-muted: #666;\n",
       "  --sklearn-color-line: gray;\n",
       "  /* Definition of color scheme for unfitted estimators */\n",
       "  --sklearn-color-unfitted-level-0: #fff5e6;\n",
       "  --sklearn-color-unfitted-level-1: #f6e4d2;\n",
       "  --sklearn-color-unfitted-level-2: #ffe0b3;\n",
       "  --sklearn-color-unfitted-level-3: chocolate;\n",
       "  /* Definition of color scheme for fitted estimators */\n",
       "  --sklearn-color-fitted-level-0: #f0f8ff;\n",
       "  --sklearn-color-fitted-level-1: #d4ebff;\n",
       "  --sklearn-color-fitted-level-2: #b3dbfd;\n",
       "  --sklearn-color-fitted-level-3: cornflowerblue;\n",
       "\n",
       "  /* Specific color for light theme */\n",
       "  --sklearn-color-text-on-default-background: var(--sg-text-color, var(--theme-code-foreground, var(--jp-content-font-color1, black)));\n",
       "  --sklearn-color-background: var(--sg-background-color, var(--theme-background, var(--jp-layout-color0, white)));\n",
       "  --sklearn-color-border-box: var(--sg-text-color, var(--theme-code-foreground, var(--jp-content-font-color1, black)));\n",
       "  --sklearn-color-icon: #696969;\n",
       "\n",
       "  @media (prefers-color-scheme: dark) {\n",
       "    /* Redefinition of color scheme for dark theme */\n",
       "    --sklearn-color-text-on-default-background: var(--sg-text-color, var(--theme-code-foreground, var(--jp-content-font-color1, white)));\n",
       "    --sklearn-color-background: var(--sg-background-color, var(--theme-background, var(--jp-layout-color0, #111)));\n",
       "    --sklearn-color-border-box: var(--sg-text-color, var(--theme-code-foreground, var(--jp-content-font-color1, white)));\n",
       "    --sklearn-color-icon: #878787;\n",
       "  }\n",
       "}\n",
       "\n",
       "#sk-container-id-1 {\n",
       "  color: var(--sklearn-color-text);\n",
       "}\n",
       "\n",
       "#sk-container-id-1 pre {\n",
       "  padding: 0;\n",
       "}\n",
       "\n",
       "#sk-container-id-1 input.sk-hidden--visually {\n",
       "  border: 0;\n",
       "  clip: rect(1px 1px 1px 1px);\n",
       "  clip: rect(1px, 1px, 1px, 1px);\n",
       "  height: 1px;\n",
       "  margin: -1px;\n",
       "  overflow: hidden;\n",
       "  padding: 0;\n",
       "  position: absolute;\n",
       "  width: 1px;\n",
       "}\n",
       "\n",
       "#sk-container-id-1 div.sk-dashed-wrapped {\n",
       "  border: 1px dashed var(--sklearn-color-line);\n",
       "  margin: 0 0.4em 0.5em 0.4em;\n",
       "  box-sizing: border-box;\n",
       "  padding-bottom: 0.4em;\n",
       "  background-color: var(--sklearn-color-background);\n",
       "}\n",
       "\n",
       "#sk-container-id-1 div.sk-container {\n",
       "  /* jupyter's `normalize.less` sets `[hidden] { display: none; }`\n",
       "     but bootstrap.min.css set `[hidden] { display: none !important; }`\n",
       "     so we also need the `!important` here to be able to override the\n",
       "     default hidden behavior on the sphinx rendered scikit-learn.org.\n",
       "     See: https://github.com/scikit-learn/scikit-learn/issues/21755 */\n",
       "  display: inline-block !important;\n",
       "  position: relative;\n",
       "}\n",
       "\n",
       "#sk-container-id-1 div.sk-text-repr-fallback {\n",
       "  display: none;\n",
       "}\n",
       "\n",
       "div.sk-parallel-item,\n",
       "div.sk-serial,\n",
       "div.sk-item {\n",
       "  /* draw centered vertical line to link estimators */\n",
       "  background-image: linear-gradient(var(--sklearn-color-text-on-default-background), var(--sklearn-color-text-on-default-background));\n",
       "  background-size: 2px 100%;\n",
       "  background-repeat: no-repeat;\n",
       "  background-position: center center;\n",
       "}\n",
       "\n",
       "/* Parallel-specific style estimator block */\n",
       "\n",
       "#sk-container-id-1 div.sk-parallel-item::after {\n",
       "  content: \"\";\n",
       "  width: 100%;\n",
       "  border-bottom: 2px solid var(--sklearn-color-text-on-default-background);\n",
       "  flex-grow: 1;\n",
       "}\n",
       "\n",
       "#sk-container-id-1 div.sk-parallel {\n",
       "  display: flex;\n",
       "  align-items: stretch;\n",
       "  justify-content: center;\n",
       "  background-color: var(--sklearn-color-background);\n",
       "  position: relative;\n",
       "}\n",
       "\n",
       "#sk-container-id-1 div.sk-parallel-item {\n",
       "  display: flex;\n",
       "  flex-direction: column;\n",
       "}\n",
       "\n",
       "#sk-container-id-1 div.sk-parallel-item:first-child::after {\n",
       "  align-self: flex-end;\n",
       "  width: 50%;\n",
       "}\n",
       "\n",
       "#sk-container-id-1 div.sk-parallel-item:last-child::after {\n",
       "  align-self: flex-start;\n",
       "  width: 50%;\n",
       "}\n",
       "\n",
       "#sk-container-id-1 div.sk-parallel-item:only-child::after {\n",
       "  width: 0;\n",
       "}\n",
       "\n",
       "/* Serial-specific style estimator block */\n",
       "\n",
       "#sk-container-id-1 div.sk-serial {\n",
       "  display: flex;\n",
       "  flex-direction: column;\n",
       "  align-items: center;\n",
       "  background-color: var(--sklearn-color-background);\n",
       "  padding-right: 1em;\n",
       "  padding-left: 1em;\n",
       "}\n",
       "\n",
       "\n",
       "/* Toggleable style: style used for estimator/Pipeline/ColumnTransformer box that is\n",
       "clickable and can be expanded/collapsed.\n",
       "- Pipeline and ColumnTransformer use this feature and define the default style\n",
       "- Estimators will overwrite some part of the style using the `sk-estimator` class\n",
       "*/\n",
       "\n",
       "/* Pipeline and ColumnTransformer style (default) */\n",
       "\n",
       "#sk-container-id-1 div.sk-toggleable {\n",
       "  /* Default theme specific background. It is overwritten whether we have a\n",
       "  specific estimator or a Pipeline/ColumnTransformer */\n",
       "  background-color: var(--sklearn-color-background);\n",
       "}\n",
       "\n",
       "/* Toggleable label */\n",
       "#sk-container-id-1 label.sk-toggleable__label {\n",
       "  cursor: pointer;\n",
       "  display: flex;\n",
       "  width: 100%;\n",
       "  margin-bottom: 0;\n",
       "  padding: 0.5em;\n",
       "  box-sizing: border-box;\n",
       "  text-align: center;\n",
       "  align-items: start;\n",
       "  justify-content: space-between;\n",
       "  gap: 0.5em;\n",
       "}\n",
       "\n",
       "#sk-container-id-1 label.sk-toggleable__label .caption {\n",
       "  font-size: 0.6rem;\n",
       "  font-weight: lighter;\n",
       "  color: var(--sklearn-color-text-muted);\n",
       "}\n",
       "\n",
       "#sk-container-id-1 label.sk-toggleable__label-arrow:before {\n",
       "  /* Arrow on the left of the label */\n",
       "  content: \"▸\";\n",
       "  float: left;\n",
       "  margin-right: 0.25em;\n",
       "  color: var(--sklearn-color-icon);\n",
       "}\n",
       "\n",
       "#sk-container-id-1 label.sk-toggleable__label-arrow:hover:before {\n",
       "  color: var(--sklearn-color-text);\n",
       "}\n",
       "\n",
       "/* Toggleable content - dropdown */\n",
       "\n",
       "#sk-container-id-1 div.sk-toggleable__content {\n",
       "  max-height: 0;\n",
       "  max-width: 0;\n",
       "  overflow: hidden;\n",
       "  text-align: left;\n",
       "  /* unfitted */\n",
       "  background-color: var(--sklearn-color-unfitted-level-0);\n",
       "}\n",
       "\n",
       "#sk-container-id-1 div.sk-toggleable__content.fitted {\n",
       "  /* fitted */\n",
       "  background-color: var(--sklearn-color-fitted-level-0);\n",
       "}\n",
       "\n",
       "#sk-container-id-1 div.sk-toggleable__content pre {\n",
       "  margin: 0.2em;\n",
       "  border-radius: 0.25em;\n",
       "  color: var(--sklearn-color-text);\n",
       "  /* unfitted */\n",
       "  background-color: var(--sklearn-color-unfitted-level-0);\n",
       "}\n",
       "\n",
       "#sk-container-id-1 div.sk-toggleable__content.fitted pre {\n",
       "  /* unfitted */\n",
       "  background-color: var(--sklearn-color-fitted-level-0);\n",
       "}\n",
       "\n",
       "#sk-container-id-1 input.sk-toggleable__control:checked~div.sk-toggleable__content {\n",
       "  /* Expand drop-down */\n",
       "  max-height: 200px;\n",
       "  max-width: 100%;\n",
       "  overflow: auto;\n",
       "}\n",
       "\n",
       "#sk-container-id-1 input.sk-toggleable__control:checked~label.sk-toggleable__label-arrow:before {\n",
       "  content: \"▾\";\n",
       "}\n",
       "\n",
       "/* Pipeline/ColumnTransformer-specific style */\n",
       "\n",
       "#sk-container-id-1 div.sk-label input.sk-toggleable__control:checked~label.sk-toggleable__label {\n",
       "  color: var(--sklearn-color-text);\n",
       "  background-color: var(--sklearn-color-unfitted-level-2);\n",
       "}\n",
       "\n",
       "#sk-container-id-1 div.sk-label.fitted input.sk-toggleable__control:checked~label.sk-toggleable__label {\n",
       "  background-color: var(--sklearn-color-fitted-level-2);\n",
       "}\n",
       "\n",
       "/* Estimator-specific style */\n",
       "\n",
       "/* Colorize estimator box */\n",
       "#sk-container-id-1 div.sk-estimator input.sk-toggleable__control:checked~label.sk-toggleable__label {\n",
       "  /* unfitted */\n",
       "  background-color: var(--sklearn-color-unfitted-level-2);\n",
       "}\n",
       "\n",
       "#sk-container-id-1 div.sk-estimator.fitted input.sk-toggleable__control:checked~label.sk-toggleable__label {\n",
       "  /* fitted */\n",
       "  background-color: var(--sklearn-color-fitted-level-2);\n",
       "}\n",
       "\n",
       "#sk-container-id-1 div.sk-label label.sk-toggleable__label,\n",
       "#sk-container-id-1 div.sk-label label {\n",
       "  /* The background is the default theme color */\n",
       "  color: var(--sklearn-color-text-on-default-background);\n",
       "}\n",
       "\n",
       "/* On hover, darken the color of the background */\n",
       "#sk-container-id-1 div.sk-label:hover label.sk-toggleable__label {\n",
       "  color: var(--sklearn-color-text);\n",
       "  background-color: var(--sklearn-color-unfitted-level-2);\n",
       "}\n",
       "\n",
       "/* Label box, darken color on hover, fitted */\n",
       "#sk-container-id-1 div.sk-label.fitted:hover label.sk-toggleable__label.fitted {\n",
       "  color: var(--sklearn-color-text);\n",
       "  background-color: var(--sklearn-color-fitted-level-2);\n",
       "}\n",
       "\n",
       "/* Estimator label */\n",
       "\n",
       "#sk-container-id-1 div.sk-label label {\n",
       "  font-family: monospace;\n",
       "  font-weight: bold;\n",
       "  display: inline-block;\n",
       "  line-height: 1.2em;\n",
       "}\n",
       "\n",
       "#sk-container-id-1 div.sk-label-container {\n",
       "  text-align: center;\n",
       "}\n",
       "\n",
       "/* Estimator-specific */\n",
       "#sk-container-id-1 div.sk-estimator {\n",
       "  font-family: monospace;\n",
       "  border: 1px dotted var(--sklearn-color-border-box);\n",
       "  border-radius: 0.25em;\n",
       "  box-sizing: border-box;\n",
       "  margin-bottom: 0.5em;\n",
       "  /* unfitted */\n",
       "  background-color: var(--sklearn-color-unfitted-level-0);\n",
       "}\n",
       "\n",
       "#sk-container-id-1 div.sk-estimator.fitted {\n",
       "  /* fitted */\n",
       "  background-color: var(--sklearn-color-fitted-level-0);\n",
       "}\n",
       "\n",
       "/* on hover */\n",
       "#sk-container-id-1 div.sk-estimator:hover {\n",
       "  /* unfitted */\n",
       "  background-color: var(--sklearn-color-unfitted-level-2);\n",
       "}\n",
       "\n",
       "#sk-container-id-1 div.sk-estimator.fitted:hover {\n",
       "  /* fitted */\n",
       "  background-color: var(--sklearn-color-fitted-level-2);\n",
       "}\n",
       "\n",
       "/* Specification for estimator info (e.g. \"i\" and \"?\") */\n",
       "\n",
       "/* Common style for \"i\" and \"?\" */\n",
       "\n",
       ".sk-estimator-doc-link,\n",
       "a:link.sk-estimator-doc-link,\n",
       "a:visited.sk-estimator-doc-link {\n",
       "  float: right;\n",
       "  font-size: smaller;\n",
       "  line-height: 1em;\n",
       "  font-family: monospace;\n",
       "  background-color: var(--sklearn-color-background);\n",
       "  border-radius: 1em;\n",
       "  height: 1em;\n",
       "  width: 1em;\n",
       "  text-decoration: none !important;\n",
       "  margin-left: 0.5em;\n",
       "  text-align: center;\n",
       "  /* unfitted */\n",
       "  border: var(--sklearn-color-unfitted-level-1) 1pt solid;\n",
       "  color: var(--sklearn-color-unfitted-level-1);\n",
       "}\n",
       "\n",
       ".sk-estimator-doc-link.fitted,\n",
       "a:link.sk-estimator-doc-link.fitted,\n",
       "a:visited.sk-estimator-doc-link.fitted {\n",
       "  /* fitted */\n",
       "  border: var(--sklearn-color-fitted-level-1) 1pt solid;\n",
       "  color: var(--sklearn-color-fitted-level-1);\n",
       "}\n",
       "\n",
       "/* On hover */\n",
       "div.sk-estimator:hover .sk-estimator-doc-link:hover,\n",
       ".sk-estimator-doc-link:hover,\n",
       "div.sk-label-container:hover .sk-estimator-doc-link:hover,\n",
       ".sk-estimator-doc-link:hover {\n",
       "  /* unfitted */\n",
       "  background-color: var(--sklearn-color-unfitted-level-3);\n",
       "  color: var(--sklearn-color-background);\n",
       "  text-decoration: none;\n",
       "}\n",
       "\n",
       "div.sk-estimator.fitted:hover .sk-estimator-doc-link.fitted:hover,\n",
       ".sk-estimator-doc-link.fitted:hover,\n",
       "div.sk-label-container:hover .sk-estimator-doc-link.fitted:hover,\n",
       ".sk-estimator-doc-link.fitted:hover {\n",
       "  /* fitted */\n",
       "  background-color: var(--sklearn-color-fitted-level-3);\n",
       "  color: var(--sklearn-color-background);\n",
       "  text-decoration: none;\n",
       "}\n",
       "\n",
       "/* Span, style for the box shown on hovering the info icon */\n",
       ".sk-estimator-doc-link span {\n",
       "  display: none;\n",
       "  z-index: 9999;\n",
       "  position: relative;\n",
       "  font-weight: normal;\n",
       "  right: .2ex;\n",
       "  padding: .5ex;\n",
       "  margin: .5ex;\n",
       "  width: min-content;\n",
       "  min-width: 20ex;\n",
       "  max-width: 50ex;\n",
       "  color: var(--sklearn-color-text);\n",
       "  box-shadow: 2pt 2pt 4pt #999;\n",
       "  /* unfitted */\n",
       "  background: var(--sklearn-color-unfitted-level-0);\n",
       "  border: .5pt solid var(--sklearn-color-unfitted-level-3);\n",
       "}\n",
       "\n",
       ".sk-estimator-doc-link.fitted span {\n",
       "  /* fitted */\n",
       "  background: var(--sklearn-color-fitted-level-0);\n",
       "  border: var(--sklearn-color-fitted-level-3);\n",
       "}\n",
       "\n",
       ".sk-estimator-doc-link:hover span {\n",
       "  display: block;\n",
       "}\n",
       "\n",
       "/* \"?\"-specific style due to the `<a>` HTML tag */\n",
       "\n",
       "#sk-container-id-1 a.estimator_doc_link {\n",
       "  float: right;\n",
       "  font-size: 1rem;\n",
       "  line-height: 1em;\n",
       "  font-family: monospace;\n",
       "  background-color: var(--sklearn-color-background);\n",
       "  border-radius: 1rem;\n",
       "  height: 1rem;\n",
       "  width: 1rem;\n",
       "  text-decoration: none;\n",
       "  /* unfitted */\n",
       "  color: var(--sklearn-color-unfitted-level-1);\n",
       "  border: var(--sklearn-color-unfitted-level-1) 1pt solid;\n",
       "}\n",
       "\n",
       "#sk-container-id-1 a.estimator_doc_link.fitted {\n",
       "  /* fitted */\n",
       "  border: var(--sklearn-color-fitted-level-1) 1pt solid;\n",
       "  color: var(--sklearn-color-fitted-level-1);\n",
       "}\n",
       "\n",
       "/* On hover */\n",
       "#sk-container-id-1 a.estimator_doc_link:hover {\n",
       "  /* unfitted */\n",
       "  background-color: var(--sklearn-color-unfitted-level-3);\n",
       "  color: var(--sklearn-color-background);\n",
       "  text-decoration: none;\n",
       "}\n",
       "\n",
       "#sk-container-id-1 a.estimator_doc_link.fitted:hover {\n",
       "  /* fitted */\n",
       "  background-color: var(--sklearn-color-fitted-level-3);\n",
       "}\n",
       "</style><div id=\"sk-container-id-1\" class=\"sk-top-container\"><div class=\"sk-text-repr-fallback\"><pre>GridSearchCV(cv=3, estimator=RandomForestClassifier(random_state=42), n_jobs=-1,\n",
       "             param_grid={&#x27;max_depth&#x27;: [10, 20], &#x27;min_samples_leaf&#x27;: [1, 2],\n",
       "                         &#x27;min_samples_split&#x27;: [2, 5],\n",
       "                         &#x27;n_estimators&#x27;: [100, 200]},\n",
       "             scoring=&#x27;accuracy&#x27;, verbose=2)</pre><b>In a Jupyter environment, please rerun this cell to show the HTML representation or trust the notebook. <br />On GitHub, the HTML representation is unable to render, please try loading this page with nbviewer.org.</b></div><div class=\"sk-container\" hidden><div class=\"sk-item sk-dashed-wrapped\"><div class=\"sk-label-container\"><div class=\"sk-label fitted sk-toggleable\"><input class=\"sk-toggleable__control sk-hidden--visually\" id=\"sk-estimator-id-1\" type=\"checkbox\" ><label for=\"sk-estimator-id-1\" class=\"sk-toggleable__label fitted sk-toggleable__label-arrow\"><div><div>GridSearchCV</div></div><div><a class=\"sk-estimator-doc-link fitted\" rel=\"noreferrer\" target=\"_blank\" href=\"https://scikit-learn.org/1.6/modules/generated/sklearn.model_selection.GridSearchCV.html\">?<span>Documentation for GridSearchCV</span></a><span class=\"sk-estimator-doc-link fitted\">i<span>Fitted</span></span></div></label><div class=\"sk-toggleable__content fitted\"><pre>GridSearchCV(cv=3, estimator=RandomForestClassifier(random_state=42), n_jobs=-1,\n",
       "             param_grid={&#x27;max_depth&#x27;: [10, 20], &#x27;min_samples_leaf&#x27;: [1, 2],\n",
       "                         &#x27;min_samples_split&#x27;: [2, 5],\n",
       "                         &#x27;n_estimators&#x27;: [100, 200]},\n",
       "             scoring=&#x27;accuracy&#x27;, verbose=2)</pre></div> </div></div><div class=\"sk-parallel\"><div class=\"sk-parallel-item\"><div class=\"sk-item\"><div class=\"sk-label-container\"><div class=\"sk-label fitted sk-toggleable\"><input class=\"sk-toggleable__control sk-hidden--visually\" id=\"sk-estimator-id-2\" type=\"checkbox\" ><label for=\"sk-estimator-id-2\" class=\"sk-toggleable__label fitted sk-toggleable__label-arrow\"><div><div>best_estimator_: RandomForestClassifier</div></div></label><div class=\"sk-toggleable__content fitted\"><pre>RandomForestClassifier(max_depth=20, random_state=42)</pre></div> </div></div><div class=\"sk-serial\"><div class=\"sk-item\"><div class=\"sk-estimator fitted sk-toggleable\"><input class=\"sk-toggleable__control sk-hidden--visually\" id=\"sk-estimator-id-3\" type=\"checkbox\" ><label for=\"sk-estimator-id-3\" class=\"sk-toggleable__label fitted sk-toggleable__label-arrow\"><div><div>RandomForestClassifier</div></div><div><a class=\"sk-estimator-doc-link fitted\" rel=\"noreferrer\" target=\"_blank\" href=\"https://scikit-learn.org/1.6/modules/generated/sklearn.ensemble.RandomForestClassifier.html\">?<span>Documentation for RandomForestClassifier</span></a></div></label><div class=\"sk-toggleable__content fitted\"><pre>RandomForestClassifier(max_depth=20, random_state=42)</pre></div> </div></div></div></div></div></div></div></div></div>"
      ],
      "text/plain": [
       "GridSearchCV(cv=3, estimator=RandomForestClassifier(random_state=42), n_jobs=-1,\n",
       "             param_grid={'max_depth': [10, 20], 'min_samples_leaf': [1, 2],\n",
       "                         'min_samples_split': [2, 5],\n",
       "                         'n_estimators': [100, 200]},\n",
       "             scoring='accuracy', verbose=2)"
      ]
     },
     "execution_count": 10,
     "metadata": {},
     "output_type": "execute_result"
    }
   ],
   "source": [
    "# Hyperparameter Tuning with GridSearchCV\n",
    "# Define the parameter grid\n",
    "param_grid = {\n",
    "    'n_estimators': [100, 200],          # Reduced to two options for speed\n",
    "    'max_depth': [10, 20],              # Keeping it manageable\n",
    "    'min_samples_split': [2, 5],        # Simplified to reduce search space\n",
    "    'min_samples_leaf': [1, 2]          # Simplified options\n",
    "}\n",
    "# Use GridSearchCV with reduced folds for larger datasets\n",
    "grid_search = GridSearchCV(\n",
    "    estimator=RandomForestClassifier(random_state=42),\n",
    "    param_grid=param_grid,\n",
    "    cv=3,  # Use 3-fold CV for faster results\n",
    "    scoring='accuracy',\n",
    "    verbose=2,  # Provides detailed logs for tracking progress\n",
    "    n_jobs=-1   # Utilize all available CPU cores for parallelism\n",
    ")\n",
    "grid_search.fit(X_train_scaled, y_train_resampled)"
   ]
  },
  {
   "cell_type": "code",
   "execution_count": 11,
   "id": "142a6232-e2ea-4ecc-9811-09010e4815b6",
   "metadata": {
    "execution": {
     "iopub.execute_input": "2025-02-20T05:22:29.659553Z",
     "iopub.status.busy": "2025-02-20T05:22:29.658029Z",
     "iopub.status.idle": "2025-02-20T05:22:29.670046Z",
     "shell.execute_reply": "2025-02-20T05:22:29.669032Z"
    }
   },
   "outputs": [
    {
     "name": "stdout",
     "output_type": "stream",
     "text": [
      "\n",
      "Best Model Parameters: {'max_depth': 20, 'min_samples_leaf': 1, 'min_samples_split': 2, 'n_estimators': 100}\n"
     ]
    }
   ],
   "source": [
    "# Best model from GridSearchCV\n",
    "best_model = grid_search.best_estimator_\n",
    "print(\"\\nBest Model Parameters:\", grid_search.best_params_)"
   ]
  },
  {
   "cell_type": "code",
   "execution_count": 12,
   "id": "3de2555e-4e0d-48cb-8895-364f1962ebc2",
   "metadata": {
    "execution": {
     "iopub.execute_input": "2025-02-20T05:22:29.681446Z",
     "iopub.status.busy": "2025-02-20T05:22:29.680431Z",
     "iopub.status.idle": "2025-02-20T05:22:29.850313Z",
     "shell.execute_reply": "2025-02-20T05:22:29.847735Z"
    }
   },
   "outputs": [],
   "source": [
    "# Evaluate the Model\n",
    "# Predict on the test set\n",
    "y_pred = best_model.predict(X_test_scaled)"
   ]
  },
  {
   "cell_type": "code",
   "execution_count": 13,
   "id": "c6902623-bd20-443a-b2a6-bb73e7198448",
   "metadata": {
    "execution": {
     "iopub.execute_input": "2025-02-20T05:22:29.859233Z",
     "iopub.status.busy": "2025-02-20T05:22:29.857633Z",
     "iopub.status.idle": "2025-02-20T05:22:29.881275Z",
     "shell.execute_reply": "2025-02-20T05:22:29.879112Z"
    }
   },
   "outputs": [
    {
     "name": "stdout",
     "output_type": "stream",
     "text": [
      "\n",
      "Confusion Matrix:\n",
      " [[482 512]\n",
      " [503 503]]\n"
     ]
    }
   ],
   "source": [
    "# Confusion Matrix\n",
    "conf_matrix = confusion_matrix(y_test, y_pred)\n",
    "print(\"\\nConfusion Matrix:\\n\", conf_matrix)"
   ]
  },
  {
   "cell_type": "code",
   "execution_count": 14,
   "id": "d1034f3f-1ce4-474c-8296-8761bd64d1ac",
   "metadata": {
    "execution": {
     "iopub.execute_input": "2025-02-20T05:22:29.890032Z",
     "iopub.status.busy": "2025-02-20T05:22:29.888398Z",
     "iopub.status.idle": "2025-02-20T05:22:29.953422Z",
     "shell.execute_reply": "2025-02-20T05:22:29.951781Z"
    }
   },
   "outputs": [
    {
     "name": "stdout",
     "output_type": "stream",
     "text": [
      "\n",
      "Classification Report:\n",
      "               precision    recall  f1-score   support\n",
      "\n",
      "           0       0.49      0.48      0.49       994\n",
      "           1       0.50      0.50      0.50      1006\n",
      "\n",
      "    accuracy                           0.49      2000\n",
      "   macro avg       0.49      0.49      0.49      2000\n",
      "weighted avg       0.49      0.49      0.49      2000\n",
      "\n"
     ]
    }
   ],
   "source": [
    "# Classification Report\n",
    "class_report = classification_report(y_test, y_pred)\n",
    "print(\"\\nClassification Report:\\n\", class_report)"
   ]
  },
  {
   "cell_type": "markdown",
   "id": "ea15409b-94c1-4835-af8a-4d001ee835ba",
   "metadata": {},
   "source": [
    "# Feature Importance"
   ]
  },
  {
   "cell_type": "code",
   "execution_count": 15,
   "id": "60080d36-66f9-4aac-90ee-f23a8d3ca9ad",
   "metadata": {
    "execution": {
     "iopub.execute_input": "2025-02-20T05:22:29.961214Z",
     "iopub.status.busy": "2025-02-20T05:22:29.961214Z",
     "iopub.status.idle": "2025-02-20T05:22:30.053318Z",
     "shell.execute_reply": "2025-02-20T05:22:30.051415Z"
    }
   },
   "outputs": [
    {
     "name": "stdout",
     "output_type": "stream",
     "text": [
      "\n",
      "Feature Importances:\n",
      "                   Feature  Importance\n",
      "0        Temperature (°C)    0.394459\n",
      "1          Pressure (bar)    0.370526\n",
      "2  Production_Time (mins)    0.235015\n"
     ]
    }
   ],
   "source": [
    "# Feature Importance\n",
    "feature_importances = pd.DataFrame(\n",
    "    {'Feature': features, 'Importance': best_model.feature_importances_}\n",
    ").sort_values(by='Importance', ascending=False)\n",
    "print(\"\\nFeature Importances:\\n\", feature_importances)"
   ]
  },
  {
   "cell_type": "code",
   "execution_count": 16,
   "id": "c97020f8-51d0-44fe-8283-b7c1f2c95cc7",
   "metadata": {
    "execution": {
     "iopub.execute_input": "2025-02-20T05:22:30.063804Z",
     "iopub.status.busy": "2025-02-20T05:22:30.062779Z",
     "iopub.status.idle": "2025-02-20T05:22:30.217830Z",
     "shell.execute_reply": "2025-02-20T05:22:30.214416Z"
    }
   },
   "outputs": [
    {
     "name": "stdout",
     "output_type": "stream",
     "text": [
      "\n",
      "Model and Scaler saved!\n"
     ]
    }
   ],
   "source": [
    "import joblib\n",
    "\n",
    "# Save the trained model and scaler\n",
    "joblib.dump(best_model, 'trained_defect_detection_model.pkl')\n",
    "joblib.dump(scaler, 'scaler.pkl')\n",
    "print(\"\\nModel and Scaler saved!\")"
   ]
  },
  {
   "cell_type": "markdown",
   "id": "c39b7757-3123-4c99-8716-09f5fd2103ef",
   "metadata": {},
   "source": [
    "# Testing the New data"
   ]
  },
  {
   "cell_type": "code",
   "execution_count": 17,
   "id": "d12970f2-c0fd-4b52-bf60-1a7a67e49e35",
   "metadata": {
    "execution": {
     "iopub.execute_input": "2025-02-20T05:22:30.226636Z",
     "iopub.status.busy": "2025-02-20T05:22:30.224894Z",
     "iopub.status.idle": "2025-02-20T05:22:35.346263Z",
     "shell.execute_reply": "2025-02-20T05:22:35.343245Z"
    }
   },
   "outputs": [
    {
     "name": "stdout",
     "output_type": "stream",
     "text": [
      "\n",
      "Classification Completed. Sample results:\n",
      "    Product_ID Batch_Number Production_Date    Shift    Inspector_Name  \\\n",
      "0    23906228      BN-0737      20-02-2022    Night  Katherine Jensen   \n",
      "1    61037588      BN-0737      06-09-2022    Night    William Gordon   \n",
      "2    85735484      BN-0212      25-02-2024  Morning     Joseph Howard   \n",
      "3    66015147      BN-2303      13-11-2022    Night  Christopher Nash   \n",
      "4    81894154      BN-2303      10-07-2023  Morning    Jessica Parker   \n",
      "\n",
      "      Defect_Type Pass_Fail  Dimension (mm)  Tolerance (mm)  \\\n",
      "0   Discoloration      Fail          121.31            0.24   \n",
      "1   Discoloration      Pass          135.72            0.64   \n",
      "2  Size Variation      Pass           53.44            0.34   \n",
      "3  Size Variation      Fail          185.79            0.78   \n",
      "4   Discoloration      Pass          111.76            0.96   \n",
      "\n",
      "   Production_Time (mins)  ...  Energy_Consumption (kWh)  Quality_Score (%)  \\\n",
      "0                      64  ...                     26.19              68.25   \n",
      "1                      50  ...                    473.75              60.04   \n",
      "2                      25  ...                    449.64              66.79   \n",
      "3                      59  ...                     26.28              95.44   \n",
      "4                      13  ...                    263.38              71.62   \n",
      "\n",
      "  Defect_Rate (%)  Compliance_Flag  Machine_Downtime (mins)  Scrap_Cost (USD)  \\\n",
      "0            8.22    Non-Compliant                       14            456.88   \n",
      "1            3.81    Non-Compliant                       47            151.75   \n",
      "2            2.42        Compliant                       17            461.42   \n",
      "3            0.10    Non-Compliant                        3             29.04   \n",
      "4            5.70    Non-Compliant                       37            356.64   \n",
      "\n",
      "   Inspection_Time (mins) Cycle_Time (s)  Line_Number  \\\n",
      "0                       1            238            2   \n",
      "1                      10             36            2   \n",
      "2                       3            118            4   \n",
      "3                       2            194            1   \n",
      "4                       4            142            4   \n",
      "\n",
      "   Random Forest_Predictions  \n",
      "0                          1  \n",
      "1                          1  \n",
      "2                          1  \n",
      "3                          0  \n",
      "4                          1  \n",
      "\n",
      "[5 rows x 24 columns]\n"
     ]
    },
    {
     "name": "stderr",
     "output_type": "stream",
     "text": [
      "C:\\Users\\njhar\\AppData\\Local\\Temp\\ipykernel_19724\\2454801790.py:68: FutureWarning: \n",
      "\n",
      "Passing `palette` without assigning `hue` is deprecated and will be removed in v0.14.0. Assign the `x` variable to `hue` and set `legend=False` for the same effect.\n",
      "\n",
      "  sns.countplot(x='Random Forest_Predictions', data=classified_data, palette='coolwarm')\n"
     ]
    },
    {
     "data": {
      "image/png": "[encoded data removed]",
      "text/plain": [
       "<Figure size 1000x500 with 1 Axes>"
      ]
     },
     "metadata": {},
     "output_type": "display_data"
    },
    {
     "data": {
      "image/png": "[encoded data removed]",
      "text/plain": [
       "<Figure size 600x600 with 1 Axes>"
      ]
     },
     "metadata": {},
     "output_type": "display_data"
    }
   ],
   "source": [
    "import joblib\n",
    "import pandas as pd\n",
    "import numpy as np\n",
    "import matplotlib.pyplot as plt\n",
    "import seaborn as sns\n",
    "\n",
    "# Load the trained models\n",
    "rf_model = joblib.load('trained_defect_detection_model.pkl')\n",
    "\n",
    "# Define available models\n",
    "available_models = {\n",
    "    'Random Forest': rf_model,\n",
    "}\n",
    "\n",
    "# Load the scaler\n",
    "scaler = joblib.load('scaler.pkl')\n",
    "\n",
    "# Load the dataset for testing\n",
    "df = pd.read_csv(r'C:\\Users\\njhar\\Downloads\\manufacturing data.csv', encoding='latin1')\n",
    "\n",
    "# Preprocess the dataset as needed\n",
    "features = ['Temperature (°C)', 'Pressure (bar)', 'Production_Time (mins)']\n",
    "df = df.dropna(subset=features)  # Handle missing values\n",
    "\n",
    "# Identify unique batch numbers and randomly select 5\n",
    "batch_numbers = df['Batch_Number'].unique()\n",
    "random_batches = np.random.choice(batch_numbers, size=min(5, len(batch_numbers)), replace=False)\n",
    "\n",
    "# Function to classify randomly selected batches\n",
    "def classify_batches(data, models, selected_batches):\n",
    "    results_list = []\n",
    "\n",
    "    for batch in selected_batches:\n",
    "        specific_data = data[data['Batch_Number'] == batch]\n",
    "\n",
    "        # Skip if there's no data for this batch\n",
    "        if specific_data.empty:\n",
    "            continue\n",
    "\n",
    "        # Extract features and scale them\n",
    "        specific_features = specific_data[features]\n",
    "        specific_features_scaled = scaler.transform(specific_features)\n",
    "\n",
    "        # Test the models on this specific data\n",
    "        batch_results = specific_data.copy()\n",
    "        for model_name, model in models.items():\n",
    "            predictions = model.predict(specific_features_scaled)\n",
    "            batch_results[f\"{model_name}_Predictions\"] = predictions\n",
    "\n",
    "        results_list.append(batch_results)\n",
    "\n",
    "    # Combine results into a single DataFrame\n",
    "    if results_list:\n",
    "        final_results = pd.concat(results_list, ignore_index=True)\n",
    "        return final_results\n",
    "    else:\n",
    "        return None\n",
    "\n",
    "# Run classification on randomly selected batches\n",
    "classified_data = classify_batches(df, available_models, random_batches)\n",
    "\n",
    "# Display results and visualize\n",
    "if classified_data is not None:\n",
    "    print(\"\\nClassification Completed. Sample results:\\n\", classified_data.head())\n",
    "\n",
    "    # Visualization - Count of defect vs non-defect\n",
    "    plt.figure(figsize=(10, 5))\n",
    "    sns.countplot(x='Random Forest_Predictions', data=classified_data, palette='coolwarm')\n",
    "    plt.xlabel(\"Defect Classification (0 = No Defect, 1 = Defect)\")\n",
    "    plt.ylabel(\"Count\")\n",
    "    plt.title(\"Defect Classification Distribution\")\n",
    "    plt.xticks(ticks=[0, 1], labels=[\"No Defect\", \"Defect\"])\n",
    "    plt.show()\n",
    "\n",
    "    # Pie chart for defect ratio\n",
    "    defect_counts = classified_data['Random Forest_Predictions'].value_counts()\n",
    "    plt.figure(figsize=(6, 6))\n",
    "    plt.pie(defect_counts, labels=[\"No Defect\", \"Defect\"], autopct='%1.1f%%', colors=['green', 'red'])\n",
    "    plt.title(\"Defect Classification Proportion\")\n",
    "    plt.show()\n",
    "\n",
    "else:\n",
    "    print(\"No valid batch data found for classification.\")\n"
   ]
  },
  {
   "cell_type": "code",
   "execution_count": null,
   "id": "7bfb9ca6-2177-4a96-9a15-0e52fb44fee3",
   "metadata": {},
   "outputs": [],
   "source": []
  },
  {
   "cell_type": "code",
   "execution_count": null,
   "id": "9a825512-4d06-4a2b-b1ab-9e09ea3856a9",
   "metadata": {},
   "outputs": [],
   "source": []
  }
 ],
 "metadata": {
  "kernelspec": {
   "display_name": "Python 3 (ipykernel)",
   "language": "python",
   "name": "python3"
  },
  "language_info": {
   "codemirror_mode": {
    "name": "ipython",
    "version": 3
   },
   "file_extension": ".py",
   "mimetype": "text/x-python",
   "name": "python",
   "nbconvert_exporter": "python",
   "pygments_lexer": "ipython3",
   "version": "3.12.1"
  }
 },
 "nbformat": 4,
 "nbformat_minor": 5
}
